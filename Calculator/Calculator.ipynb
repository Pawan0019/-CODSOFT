{
 "cells": [
  {
   "cell_type": "markdown",
   "id": "dbf0ea02",
   "metadata": {},
   "source": [
    "# CODSOFT"
   ]
  },
  {
   "cell_type": "markdown",
   "id": "23b870e6",
   "metadata": {},
   "source": [
    "**Virtual Internship On Python Programming**"
   ]
  },
  {
   "cell_type": "markdown",
   "id": "4e5afa0f",
   "metadata": {},
   "source": [
    "**Calculator**"
   ]
  },
  {
   "cell_type": "code",
   "execution_count": 1,
   "id": "36f94ac7",
   "metadata": {},
   "outputs": [
    {
     "data": {
      "text/plain": [
       "''"
      ]
     },
     "execution_count": 1,
     "metadata": {},
     "output_type": "execute_result"
    }
   ],
   "source": [
    "from tkinter import *\n",
    "\n",
    "win = Tk() # This is to create a basic window\n",
    "win.geometry(\"312x324\")  # this is for the size of the window \n",
    "win.resizable(0, 0)  # this is to prevent from resizing the window\n",
    "win.title(\"Calculator\")\n"
   ]
  },
  {
   "cell_type": "code",
   "execution_count": 2,
   "id": "be9e4f7c",
   "metadata": {},
   "outputs": [],
   "source": [
    "###################Starting with functions ####################\n",
    "\n",
    "def btn_click(item):\n",
    "    global expression\n",
    "    expression = expression + str(item)\n",
    "    input_text.set(expression)\n",
    "\n",
    "# 'bt_clear' function :This is used to clear the input field\n",
    "\n",
    "def bt_clear(): \n",
    "    global expression \n",
    "    expression = \"\" \n",
    "    input_text.set(\"\")\n",
    "\n",
    "    \n",
    "# 'bt_equal':This method calculates the expression present in input field\n",
    " \n",
    "def bt_equal():\n",
    "    global expression\n",
    "    result = str(eval(expression))\n",
    "    input_text.set(result)\n",
    "    expression = \"\""
   ]
  },
  {
   "cell_type": "code",
   "execution_count": 3,
   "id": "82c535cd",
   "metadata": {},
   "outputs": [],
   "source": [
    "expression = \"\"\n",
    " \n",
    "input_text = StringVar()\n",
    " \n",
    "# Let us creating a frame for the input field\n",
    " \n",
    "input_frame = Frame(win, width=312, height=50, bd=0, highlightbackground=\"black\", highlightcolor=\"black\", highlightthickness=2)\n",
    " \n",
    "input_frame.pack(side=TOP)\n",
    " \n",
    "#Let us create a input field inside the 'Frame'\n",
    " \n",
    "input_field = Entry(input_frame, font=('arial', 18, 'bold'), textvariable=input_text, width=50, bg=\"light blue\", bd=0, justify=RIGHT)\n",
    "input_field.grid(row=0, column=0)\n",
    "input_field.pack(ipady=10)\n"
   ]
  },
  {
   "cell_type": "code",
   "execution_count": 4,
   "id": "5650b051",
   "metadata": {},
   "outputs": [],
   "source": [
    "#Let us creating another 'Frame' for the button below the 'input_frame'\n",
    " \n",
    "btns_frame = Frame(win, width=312, height=272.5, bg=\"grey\")\n",
    " \n",
    "btns_frame.pack()\n",
    " \n",
    "# first row\n",
    " \n",
    "clear = Button(btns_frame, text = \"C\", width = 32, height = 3, cursor = \"hand2\", command = lambda: bt_clear()).grid(row = 0, column = 0, columnspan = 3, padx = 1, pady = 1)\n",
    " \n",
    "divide = Button(btns_frame, text = \"/\",width = 10, height = 3, bd = 0, cursor = \"hand2\", command = lambda: btn_click(\"/\")).grid(row = 0, column = 3, padx = 1, pady = 1)\n",
    " \n",
    "# second row\n",
    " \n",
    "seven = Button(btns_frame, text = \"7\", width = 10, height = 3, bd = 0, cursor = \"hand2\", command = lambda: btn_click(7)).grid(row = 1, column = 0, padx = 1, pady = 1)\n",
    " \n",
    "eight = Button(btns_frame, text = \"8\", width = 10, height = 3, bd = 0, cursor = \"hand2\", command = lambda: btn_click(8)).grid(row = 1, column = 1, padx = 1, pady = 1)\n",
    " \n",
    "nine = Button(btns_frame, text = \"9\", width = 10, height = 3, bd = 0,  cursor = \"hand2\", command = lambda: btn_click(9)).grid(row = 1, column = 2, padx = 1, pady = 1)\n",
    " \n",
    "multiply = Button(btns_frame, text = \"*\", width = 10, height = 3, bd = 0, cursor = \"hand2\", command = lambda: btn_click(\"*\")).grid(row = 1, column = 3, padx = 1, pady = 1)\n",
    " \n",
    "# third row\n",
    " \n",
    "four = Button(btns_frame, text = \"4\", width = 10, height = 3, bd = 0, cursor = \"hand2\", command = lambda: btn_click(4)).grid(row = 2, column = 0, padx = 1, pady = 1)\n",
    " \n",
    "five = Button(btns_frame, text = \"5\", width = 10, height = 3, bd = 0, cursor = \"hand2\", command = lambda: btn_click(5)).grid(row = 2, column = 1, padx = 1, pady = 1)\n",
    " \n",
    "six = Button(btns_frame, text = \"6\", width = 10, height = 3, bd = 0, cursor = \"hand2\", command = lambda: btn_click(6)).grid(row = 2, column = 2, padx = 1, pady = 1)\n",
    " \n",
    "minus = Button(btns_frame, text = \"-\", width = 10, height = 3, bd = 0, cursor = \"hand2\", command = lambda: btn_click(\"-\")).grid(row = 2, column = 3, padx = 1, pady = 1)\n",
    " \n",
    "# fourth row\n",
    " \n",
    "one = Button(btns_frame, text = \"1\", width = 10, height = 3, bd = 0, cursor = \"hand2\", command = lambda: btn_click(1)).grid(row = 3, column = 0, padx = 1, pady = 1)\n",
    " \n",
    "two = Button(btns_frame, text = \"2\", width = 10, height = 3, bd = 0, cursor = \"hand2\", command = lambda: btn_click(2)).grid(row = 3, column = 1, padx = 1, pady = 1)\n",
    " \n",
    "three = Button(btns_frame, text = \"3\", width = 10, height = 3, bd = 0, cursor = \"hand2\", command = lambda: btn_click(3)).grid(row = 3, column = 2, padx = 1, pady = 1)\n",
    " \n",
    "plus = Button(btns_frame, text = \"+\", width = 10, height = 3, bd = 0,cursor = \"hand2\", command = lambda: btn_click(\"+\")).grid(row = 3, column = 3, padx = 1, pady = 1)\n",
    " \n",
    "# fourth row\n",
    " \n",
    "zero = Button(btns_frame, text = \"0\", width = 21, height = 3, bd = 0,cursor = \"hand2\", command = lambda: btn_click(0)).grid(row = 4, column = 0, columnspan = 2, padx = 1, pady = 1)\n",
    " \n",
    "point = Button(btns_frame, text = \".\", width = 10, height = 3, bd = 0, cursor = \"hand2\", command = lambda: btn_click(\".\")).grid(row = 4, column = 2, padx = 1, pady = 1)\n",
    " \n",
    "equals = Button(btns_frame, text = \"=\", width = 10, height = 3, bd = 0, cursor = \"hand2\", command = lambda: bt_equal()).grid(row = 4, column = 3, padx = 1, pady = 1)\n",
    "\n",
    "#Main window\n",
    "win.mainloop()"
   ]
  },
  {
   "cell_type": "code",
   "execution_count": null,
   "id": "ab050ee8",
   "metadata": {},
   "outputs": [],
   "source": []
  }
 ],
 "metadata": {
  "kernelspec": {
   "display_name": "Python 3 (ipykernel)",
   "language": "python",
   "name": "python3"
  },
  "language_info": {
   "codemirror_mode": {
    "name": "ipython",
    "version": 3
   },
   "file_extension": ".py",
   "mimetype": "text/x-python",
   "name": "python",
   "nbconvert_exporter": "python",
   "pygments_lexer": "ipython3",
   "version": "3.10.7"
  }
 },
 "nbformat": 4,
 "nbformat_minor": 5
}
