{
 "cells": [
  {
   "cell_type": "markdown",
   "id": "a44728f2",
   "metadata": {},
   "source": [
    "# **CODSOFT**"
   ]
  },
  {
   "cell_type": "markdown",
   "id": "4c34a0b4",
   "metadata": {},
   "source": [
    "**Virtual Internship On Python Programming**"
   ]
  },
  {
   "cell_type": "markdown",
   "id": "543b59b1",
   "metadata": {},
   "source": [
    "**Password Generator**"
   ]
  },
  {
   "cell_type": "code",
   "execution_count": 35,
   "id": "783676fd",
   "metadata": {},
   "outputs": [],
   "source": [
    "#importing Libraries\n",
    "\n",
    "from tkinter import *\n",
    "import random, string\n",
    "import pyperclip\n",
    "\n",
    "#initialize window\n",
    "\n",
    "root =Tk()\n",
    "root.geometry(\"400x300\")\n",
    "root.resizable(0,0)\n",
    "root.title(\"PASSWORD GENERATOR\")\n",
    "root.configure(bg=\"light blue\")\n",
    "\n",
    "#heading\n",
    "heading = Label(root, text = 'PASSWORD GENERATOR' , font ='arial 15 bold', bg=\"light blue\").pack()\n",
    "\n",
    "\n",
    "#select password length\n",
    "pass_label = Label(root, text = 'PASSWORD LENGTH', font = 'arial 10 bold', bg=\"light blue\").pack()\n",
    "pass_len = IntVar()\n",
    "length = Spinbox(root, from_ = 4, to_ = 32 , textvariable = pass_len , width = 15).pack()\n",
    "\n",
    "\n",
    "\n",
    "#define function\n",
    "\n",
    "pass_str = StringVar()\n",
    "\n",
    "def Generator():\n",
    "    password = ''\n",
    "    for x in range (0,4):\n",
    "        password = random.choice(string.ascii_uppercase)+random.choice(string.ascii_lowercase)+random.choice(string.digits)+random.choice(string.punctuation)\n",
    "    for y in range(pass_len.get()- 4):\n",
    "        password = password+random.choice(string.ascii_uppercase + string.ascii_lowercase + string.digits + string.punctuation)\n",
    "    pass_str.set(password)\n",
    "\n",
    "\n",
    "#button\n",
    "\n",
    "Button(root, text = \"GENERATE PASSWORD\" , command = Generator ).pack(pady= 5)\n",
    "\n",
    "Entry(root , textvariable = pass_str).pack()\n",
    "\n",
    "#function to copy\n",
    "\n",
    "def Copy_password():\n",
    "    pyperclip.copy(pass_str.get())\n",
    "\n",
    "Button(root, text = 'COPY TO CLIPBOARD', command = Copy_password).pack(pady=5)\n",
    "\n",
    "\n",
    "# loop to run program\n",
    "root.mainloop()\n"
   ]
  },
  {
   "cell_type": "code",
   "execution_count": null,
   "id": "9f9d810c",
   "metadata": {},
   "outputs": [],
   "source": []
  }
 ],
 "metadata": {
  "kernelspec": {
   "display_name": "Python 3 (ipykernel)",
   "language": "python",
   "name": "python3"
  },
  "language_info": {
   "codemirror_mode": {
    "name": "ipython",
    "version": 3
   },
   "file_extension": ".py",
   "mimetype": "text/x-python",
   "name": "python",
   "nbconvert_exporter": "python",
   "pygments_lexer": "ipython3",
   "version": "3.10.7"
  }
 },
 "nbformat": 4,
 "nbformat_minor": 5
}
